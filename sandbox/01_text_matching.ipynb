{
 "cells": [
  {
   "cell_type": "code",
   "execution_count": 3,
   "metadata": {
    "collapsed": true
   },
   "outputs": [
    {
     "data": {
      "text/plain": "                                     Id  \\\n0  d0fa7568-7d8e-4db9-870f-f9c6f668c17b   \n1  2f26f645-3dec-485d-b68d-f013c9e05e60   \n2  c5d5cd2c-59de-4f29-bbb1-6a88c7b52f29   \n3  5c9a3bc9-41ba-4574-ad71-e25c1442c8af   \n4  c754dec7-c5a3-4337-9892-c02158475064   \n\n                                           pub_title  \\\n0  The Impact of Dual Enrollment on College Degre...   \n1  Educational Attainment of High School Dropouts...   \n2  Differences in Outcomes for Female and Male St...   \n3  Stepping Stone and Option Value in a Model of ...   \n4  Parental Effort, School Resources, and Student...   \n\n                           dataset_title  \\\n0  National Education Longitudinal Study   \n1  National Education Longitudinal Study   \n2  National Education Longitudinal Study   \n3  National Education Longitudinal Study   \n4  National Education Longitudinal Study   \n\n                           dataset_label  \\\n0  National Education Longitudinal Study   \n1  National Education Longitudinal Study   \n2  National Education Longitudinal Study   \n3  National Education Longitudinal Study   \n4  National Education Longitudinal Study   \n\n                           cleaned_label  \n0  national education longitudinal study  \n1  national education longitudinal study  \n2  national education longitudinal study  \n3  national education longitudinal study  \n4  national education longitudinal study  ",
      "text/html": "<div>\n<style scoped>\n    .dataframe tbody tr th:only-of-type {\n        vertical-align: middle;\n    }\n\n    .dataframe tbody tr th {\n        vertical-align: top;\n    }\n\n    .dataframe thead th {\n        text-align: right;\n    }\n</style>\n<table border=\"1\" class=\"dataframe\">\n  <thead>\n    <tr style=\"text-align: right;\">\n      <th></th>\n      <th>Id</th>\n      <th>pub_title</th>\n      <th>dataset_title</th>\n      <th>dataset_label</th>\n      <th>cleaned_label</th>\n    </tr>\n  </thead>\n  <tbody>\n    <tr>\n      <th>0</th>\n      <td>d0fa7568-7d8e-4db9-870f-f9c6f668c17b</td>\n      <td>The Impact of Dual Enrollment on College Degre...</td>\n      <td>National Education Longitudinal Study</td>\n      <td>National Education Longitudinal Study</td>\n      <td>national education longitudinal study</td>\n    </tr>\n    <tr>\n      <th>1</th>\n      <td>2f26f645-3dec-485d-b68d-f013c9e05e60</td>\n      <td>Educational Attainment of High School Dropouts...</td>\n      <td>National Education Longitudinal Study</td>\n      <td>National Education Longitudinal Study</td>\n      <td>national education longitudinal study</td>\n    </tr>\n    <tr>\n      <th>2</th>\n      <td>c5d5cd2c-59de-4f29-bbb1-6a88c7b52f29</td>\n      <td>Differences in Outcomes for Female and Male St...</td>\n      <td>National Education Longitudinal Study</td>\n      <td>National Education Longitudinal Study</td>\n      <td>national education longitudinal study</td>\n    </tr>\n    <tr>\n      <th>3</th>\n      <td>5c9a3bc9-41ba-4574-ad71-e25c1442c8af</td>\n      <td>Stepping Stone and Option Value in a Model of ...</td>\n      <td>National Education Longitudinal Study</td>\n      <td>National Education Longitudinal Study</td>\n      <td>national education longitudinal study</td>\n    </tr>\n    <tr>\n      <th>4</th>\n      <td>c754dec7-c5a3-4337-9892-c02158475064</td>\n      <td>Parental Effort, School Resources, and Student...</td>\n      <td>National Education Longitudinal Study</td>\n      <td>National Education Longitudinal Study</td>\n      <td>national education longitudinal study</td>\n    </tr>\n  </tbody>\n</table>\n</div>"
     },
     "execution_count": 3,
     "metadata": {},
     "output_type": "execute_result"
    }
   ],
   "source": [
    "import pandas as pd\n",
    "\n",
    "data = pd.read_csv('../coleridgeinitiative-show-us-the-data/train.csv')\n",
    "data.head()\n",
    "\n",
    "def read_append_return(filename, train_files_path = train_files_path, output = 'text'):\n",
    "    json_path = os.path.join(train_files_path, (filename + '.json'))\n",
    "    headings = []\n",
    "    contents = []\n",
    "    combined = []\n",
    "    with open(json_path, 'r') as f:\n",
    "        json_decode = json.load(f)\n",
    "        for data in json_decode:\n",
    "            headings.append(data.get('section_title'))\n",
    "            contents.append(data.get('text'))\n",
    "            combined.append(data.get('section_title'))\n",
    "            combined.append(data.get('text'))\n",
    "    \n",
    "    all_headings = ' '.join(headings)\n",
    "    all_contents = ' '.join(contents)\n",
    "    all_data = '. '.join(combined)\n",
    "    \n",
    "    if output == 'text':\n",
    "        return all_contents\n",
    "    elif output == 'head':\n",
    "        return all_headings\n",
    "    else:\n",
    "        return all_data"
   ]
  }
 ],
 "metadata": {
  "kernelspec": {
   "name": "pycharm-e56b9de0",
   "language": "python",
   "display_name": "PyCharm (happy-dating)"
  },
  "language_info": {
   "codemirror_mode": {
    "name": "ipython",
    "version": 2
   },
   "file_extension": ".py",
   "mimetype": "text/x-python",
   "name": "python",
   "nbconvert_exporter": "python",
   "pygments_lexer": "ipython2",
   "version": "2.7.6"
  }
 },
 "nbformat": 4,
 "nbformat_minor": 0
}